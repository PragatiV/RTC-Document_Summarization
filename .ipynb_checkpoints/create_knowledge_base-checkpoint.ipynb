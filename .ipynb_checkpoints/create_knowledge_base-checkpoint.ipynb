{
 "cells": [
  {
   "cell_type": "code",
   "execution_count": 29,
   "metadata": {
    "collapsed": false
   },
   "outputs": [],
   "source": [
    "import os\n",
    "from BeautifulSoup import BeautifulSoup\n",
    "import nltk as nltk\n",
    "from nltk.corpus import stopwords\n",
    "import re\n",
    "from wordcloud import WordCloud\n",
    "import matplotlib.pyplot as plt\n",
    "import pickle"
   ]
  },
  {
   "cell_type": "code",
   "execution_count": 28,
   "metadata": {
    "collapsed": false
   },
   "outputs": [],
   "source": [
    "catch =[]\n",
    "mypath = '/home/pragati/trainingHalf'\n",
    "for root, dirs, files in os.walk(mypath, topdown=False):\n",
    "    for filename in files:\n",
    "        f = open(os.path.join(root, filename), 'r')\n",
    "        soup = BeautifulSoup(f.read())\n",
    "        for c in (soup('catchphrase')):\n",
    "            catch.extend(c.text.split())  "
   ]
  },
  {
   "cell_type": "code",
   "execution_count": 4,
   "metadata": {
    "collapsed": false
   },
   "outputs": [],
   "source": [
    "stop_words = stopwords.words(\"english\")\n",
    "more_w = ['more', '', ' ', 'whether', 'word', 'cth', 'time', 'part', 'set', 'make', 'australia', 'ss', 'made', \\\n",
    "          'would', 'may', 'one', 'two', 'could','also', 'name','put']\n",
    "stop_words.extend(more_w)"
   ]
  },
  {
   "cell_type": "code",
   "execution_count": 12,
   "metadata": {
    "collapsed": false
   },
   "outputs": [],
   "source": [
    "filt_c = []\n",
    "tokens = [w.lower() for w in catch]\n",
    "punc_rem = [re.sub('[^A-Za-z]+', '', word) for word in tokens]\n",
    "#lemmatized = [lemm.lemmatize(w) for w in punc_rem]\n",
    "filt_stop = [word for word in punc_rem if word not in stop_words]\n",
    "filt_len = [word for word in filt_stop if len(word)>=3]\n",
    "nouns=[]\n",
    "for word,pos in nltk.pos_tag(filt_len):\n",
    "    if (pos == 'NN' or pos == 'NNP' or pos == 'NNS' or pos == 'NNPS'):\n",
    "             nouns.append(word)\n",
    "filt_c.extend(nouns)\n",
    "#filt_c = filt_c[0]"
   ]
  },
  {
   "cell_type": "code",
   "execution_count": 15,
   "metadata": {
    "collapsed": false
   },
   "outputs": [],
   "source": [
    "wordcloud = WordCloud(background_color='white',width=1200,height=1000).generate(\" \".join(filt_c))"
   ]
  },
  {
   "cell_type": "code",
   "execution_count": 16,
   "metadata": {
    "collapsed": false
   },
   "outputs": [],
   "source": [
    "plt.imshow(wordcloud)\n",
    "plt.axis('off')\n",
    "plt.show()"
   ]
  },
  {
   "cell_type": "code",
   "execution_count": 17,
   "metadata": {
    "collapsed": false
   },
   "outputs": [],
   "source": [
    "d = {}\n",
    "for word in filt_c:\n",
    "    if word in d:\n",
    "        d[word] += 1\n",
    "    else:\n",
    "        d[word] = 1"
   ]
  },
  {
   "cell_type": "code",
   "execution_count": 24,
   "metadata": {
    "collapsed": false
   },
   "outputs": [],
   "source": [
    "imp = {k:v for k,v in d.iteritems() if v >= 25}"
   ]
  },
  {
   "cell_type": "code",
   "execution_count": 25,
   "metadata": {
    "collapsed": false
   },
   "outputs": [],
   "source": [
    "with open(\"/home/pragati/imp_dict.dat\",'wb') as picklefile:\n",
    "    pickle.dump(imp, picklefile)"
   ]
  },
  {
   "cell_type": "code",
   "execution_count": 26,
   "metadata": {
    "collapsed": true
   },
   "outputs": [],
   "source": [
    "with open(\"/home/pragati/imp_dict.dat\",'r') as p:\n",
    "    imp_pick = pickle.load(p)"
   ]
  },
  {
   "cell_type": "code",
   "execution_count": 27,
   "metadata": {
    "collapsed": false
   },
   "outputs": [
    {
     "name": "stdout",
     "output_type": "stream",
     "text": [
      "{u'tribunals': 77, u'interpretation': 59, u'office': 29, u'considerations': 75, u'obligations': 44, u'consent': 34, u'jurisdiction': 146, u'allegations': 32, u'sequestration': 25, u'trade': 356, u'report': 25, u'relation': 103, u'questions': 78, u'fairness': 58, u'facts': 66, u'existence': 31, u'settlement': 48, u'decisions': 78, u'contraventions': 38, u'issues': 76, u'ground': 79, u'litigation': 48, u'delay': 47, u'death': 32, u'group': 99, u'knowledge': 30, u'taxpayer': 32, u'title': 183, u'justice': 69, u'mark': 71, u'supply': 28, u'character': 32, u'contravention': 53, u'fund': 28, u'magistrates': 125, u'appellant': 81, u'charge': 26, u'production': 28, u'board': 34, u'marks': 70, u'policy': 34, u'health': 27, u'veterans': 41, u'extradition': 50, u'proceedings': 286, u'provisions': 64, u'contracts': 34, u'pursuant': 40, u'practice': 518, u'liability': 71, u'matters': 51, u'joinder': 26, u'words': 70, u'magistrate': 198, u'judge': 56, u'entity': 34, u'provision': 89, u'day': 29, u'comply': 46, u'applicants': 226, u'loss': 53, u'term': 47, u'success': 61, u'legislation': 34, u'cause': 77, u'companies': 48, u'stay': 36, u'principle': 66, u'securities': 31, u'convenience': 33, u'relief': 115, u'privilege': 96, u'officer': 25, u'allegation': 25, u'employee': 50, u'security': 125, u'payments': 41, u'liquidators': 42, u'commonwealth': 45, u'harm': 25, u'interest': 153, u'liquidation': 25, u'reference': 30, u'adjournment': 28, u'penalties': 40, u'injunction': 128, u'principles': 126, u'authority': 41, u'appellants': 94, u'design': 50, u'result': 29, u'corporations': 372, u'patent': 54, u'operation': 40, u'balance': 42, u'employment': 77, u'event': 39, u'trust': 47, u'proceeding': 43, u'business': 100, u'factors': 59, u'section': 62, u'benefit': 33, u'shares': 64, u'access': 40, u'state': 79, u'investigation': 26, u'discretion': 186, u'conduct': 236, u'entitlements': 26, u'documents': 190, u'appeal': 491, u'conditions': 47, u'discrimination': 61, u'exercise': 99, u'delegate': 34, u'notice': 133, u'terms': 92, u'breach': 139, u'power': 152, u'nature': 57, u'agreement': 183, u'reason': 104, u'protection': 161, u'extent': 26, u'consideration': 371, u'obligation': 62, u'debt': 49, u'indemnity': 67, u'claims': 125, u'hearing': 70, u'director': 47, u'prospects': 38, u'goods': 89, u'benefits': 25, u'copyright': 27, u'extension': 102, u'applications': 52, u'refugee': 118, u'compliance': 46, u'respondents': 174, u'contract': 201, u'motion': 91, u'credit': 63, u'amount': 53, u'visa': 86, u'prejudice': 30, u'workplace': 59, u'act': 854, u'action': 128, u'opinion': 26, u'cancellation': 33, u'patents': 60, u'grounds': 113, u'duty': 71, u'disclosure': 39, u'appeals': 176, u'statements': 42, u'members': 86, u'family': 25, u'point': 39, u'reasons': 108, u'superannuation': 29, u'affidavit': 26, u'safety': 27, u'period': 75, u'ministers': 43, u'price': 33, u'date': 41, u'particulars': 49, u'registration': 52, u'owner': 33, u'respect': 57, u'representations': 67, u'employer': 39, u'market': 35, u'bankruptcy': 204, u'class': 50, u'penalty': 167, u'use': 58, u'fee': 34, u'findings': 75, u'service': 128, u'basis': 108, u'union': 57, u'transfer': 31, u'support': 55, u'solicitors': 28, u'question': 125, u'system': 25, u'relations': 85, u'disability': 28, u'parties': 122, u'commission': 75, u'insurance': 79, u'statement': 119, u'convention': 26, u'notices': 27, u'injury': 29, u'assessment': 84, u'defendant': 28, u'agreements': 33, u'interests': 71, u'commissioner': 55, u'way': 28, u'relationship': 47, u'offer': 30, u'taxation': 126, u'shareholders': 31, u'immigration': 35, u'award': 31, u'purposes': 81, u'administrators': 31, u'strike': 40, u'construction': 113, u'determination': 102, u'minister': 104, u'courts': 74, u'declaration': 39, u'approval': 43, u'assets': 29, u'circumstances': 173, u'case': 118, u'tribunal': 139, u'account': 95, u'scheme': 93, u'rights': 92, u'default': 32, u'submissions': 40, u'declarations': 31, u'clause': 25, u'income': 149, u'creditor': 33, u'matter': 80, u'compensation': 66, u'absence': 38, u'validity': 34, u'duties': 33, u'orders': 259, u'error': 216, u'interlocutory': 43, u'merits': 33, u'property': 150, u'powers': 29, u'employees': 38, u'creditors': 123, u'migration': 651, u'prospect': 30, u'claim': 316, u'applicant': 179, u'money': 26, u'process': 76, u'relevance': 56, u'infringement': 33, u'trial': 75, u'tax': 197, u'discovery': 86, u'evidence': 436, u'dismissal': 73, u'bias': 35, u'file': 47, u'plaintiff': 30, u'deed': 29, u'work': 50, u'entitlement': 30, u'investment': 31, u'trustee': 63, u'affairs': 43, u'issue': 93, u'court': 783, u'form': 27, u'liquidator': 57, u'grant': 64, u'objection': 42, u'corporation': 51, u'administration': 65, u'connection': 25, u'arrangement': 70, u'member': 59, u'application': 1158, u'practices': 225, u'damages': 107, u'respondent': 214, u'meeting': 70, u'test': 65, u'party': 191, u'company': 334, u'pension': 26, u'pleadings': 52, u'credibility': 32, u'product': 41, u'material': 56, u'management': 31, u'insolvency': 58, u'information': 207, u'advice': 41, u'refusal': 37, u'effect': 96, u'defence': 78, u'customs': 29, u'regulations': 37, u'persons': 38, u'meaning': 32, u'abuse': 27, u'condition': 48, u'purpose': 43, u'representation': 52, u'persecution': 63, u'requirements': 44, u'decision': 613, u'law': 529, u'judgment': 127, u'payment': 71, u'intention': 37, u'purchase': 31, u'demand': 36, u'land': 56, u'performance': 27, u'failure': 189, u'rules': 139, u'resolution': 40, u'register': 28, u'request': 43, u'sale': 72, u'rule': 64, u'order': 432, u'person': 92, u'directors': 47, u'costs': 446, u'services': 96, u'procedure': 513, u'pay': 50, u'direction': 27, u'termination': 40, u'amendment': 44, u'requirement': 45, u'opportunity': 61, u'review': 328, u'fact': 92}\n"
     ]
    }
   ],
   "source": [
    "print imp_pick"
   ]
  },
  {
   "cell_type": "code",
   "execution_count": null,
   "metadata": {
    "collapsed": true
   },
   "outputs": [],
   "source": []
  },
  {
   "cell_type": "code",
   "execution_count": null,
   "metadata": {
    "collapsed": true
   },
   "outputs": [],
   "source": []
  }
 ],
 "metadata": {
  "kernelspec": {
   "display_name": "Python 2",
   "language": "python",
   "name": "python2"
  },
  "language_info": {
   "codemirror_mode": {
    "name": "ipython",
    "version": 2
   },
   "file_extension": ".py",
   "mimetype": "text/x-python",
   "name": "python",
   "nbconvert_exporter": "python",
   "pygments_lexer": "ipython2",
   "version": "2.7.12"
  }
 },
 "nbformat": 4,
 "nbformat_minor": 0
}

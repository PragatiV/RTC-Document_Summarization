{
 "cells": [
  {
   "cell_type": "code",
   "execution_count": 79,
   "metadata": {
    "collapsed": false
   },
   "outputs": [],
   "source": [
    "from BeautifulSoup import BeautifulSoup\n",
    "import nltk as nltk\n",
    "from nltk.corpus import stopwords\n",
    "from nltk.stem import WordNetLemmatizer\n",
    "import re\n",
    "import numpy as np"
   ]
  },
  {
   "cell_type": "code",
   "execution_count": 115,
   "metadata": {
    "collapsed": false
   },
   "outputs": [],
   "source": [
    "f = open('/home/pragati/dataset_RTC/corpus/fulltext/06_3.xml', 'r')\n",
    "text = f.read()\n",
    "soup = BeautifulSoup(text) "
   ]
  },
  {
   "cell_type": "code",
   "execution_count": 116,
   "metadata": {
    "collapsed": false
   },
   "outputs": [],
   "source": [
    "lemm = WordNetLemmatizer()"
   ]
  },
  {
   "cell_type": "code",
   "execution_count": 117,
   "metadata": {
    "collapsed": false
   },
   "outputs": [],
   "source": [
    "text = []\n",
    "for sent in soup('sentence'):\n",
    "    tokens = [w.lower() for w in sent.text.strip().split()]\n",
    "    punc_rem = [re.sub('[^A-Za-z0-9]+', '', word) for word in tokens]\n",
    "    #lemmatized = [lemm.lemmatize(w) for w in punc_rem]\n",
    "    filt_stop = [word for word in punc_rem if word not in stopwords.words('english')]\n",
    "    text.append(filt_stop)"
   ]
  },
  {
   "cell_type": "code",
   "execution_count": 118,
   "metadata": {
    "collapsed": false
   },
   "outputs": [],
   "source": [
    "def sentences_intersection(s_1, s_2):\n",
    "    s1 = set(s_1)\n",
    "    s2 = set(s_2)\n",
    "    if (len(s1) + len(s2)) == 0:\n",
    "        return 0\n",
    "\n",
    "    # We normalize the result by the average number of words\n",
    "    return len(s1.intersection(s2)) / float(((len(s1) + len(s2)) / 2))\n"
   ]
  },
  {
   "cell_type": "code",
   "execution_count": 119,
   "metadata": {
    "collapsed": false
   },
   "outputs": [],
   "source": [
    "n = len(text)\n",
    "values = np.zeros((n,n), dtype = np.double)\n",
    "for i in range(0, n):\n",
    "    for j in range(0, n):\n",
    "        values[i][j] = sentences_intersection(text[i], text[j])"
   ]
  },
  {
   "cell_type": "code",
   "execution_count": 120,
   "metadata": {
    "collapsed": false
   },
   "outputs": [],
   "source": [
    "sentences_dic = {}\n",
    "keys =[]\n",
    "for i in range(0, n):\n",
    "    score = 0\n",
    "    for j in range(0, n):\n",
    "        if i == j:\n",
    "            continue\n",
    "        score += values[i][j]\n",
    "    keys.append(\" \".join(text[i]))\n",
    "    sentences_dic[\" \".join(text[i])] = score\n"
   ]
  },
  {
   "cell_type": "code",
   "execution_count": 121,
   "metadata": {
    "collapsed": false
   },
   "outputs": [
    {
     "name": "stdout",
     "output_type": "stream",
     "text": [
      "The Tribunal said that t here was nothing in the independent evidence to satisfy the Tribunal that the appellant will be denied state protection for the reason of her ethnicity religion or her membership of a particular social group of ethnic Chinese women in Indonesia  .\n",
      "\n",
      "\n",
      " The question ultimately is whether the case put by the appellant before the tribunal has sufficiently raised the relevant issue that the tribunal should have dealt with it  .\n",
      "\n",
      "\n",
      " 25 The appellant did not challenge the correctness of the approach to a particular social group stated by the Tribunal  .\n",
      "\n",
      "\n",
      "On that finding the persecution she feared was not for a Convention reason the Tribunal member rejected the hypothesis that the appellant was attacked because she was Chinese  .\n",
      "\n",
      "\n",
      "The appellant argued that the Tribunal misunderstood the legal test for a particular social group  .\n",
      "\n",
      "\n",
      " The Tribunal Member who first heard the appellant s case recorded that the appellant had also stated that her father and brother had reported the assault to the police but they took no action  .\n",
      "\n",
      "\n",
      "Issue 4 Ethnic Chinese and Christian women in Indonesia as a particular social group 13 The Tribunal accepted that the rapes suffered by the appellant constituted harm of a kind sufficiently serious so as to amount to persecution under s 91R 1 b of the Act  .\n",
      "\n",
      "\n",
      "There was nothing in the independent evidence to satisfy the Tribunal that the appellant will be denied state protection for the reason of her ethnicity religion or her membership of a particular social group of ethnic Chinese women in Indonesia  .\n",
      "\n",
      "\n",
      " The Tribunal was satisfied that if the appellant were to face harm from private individuals adequate and effective state protection is available to her  .\n",
      "\n",
      "\n"
     ]
    }
   ],
   "source": [
    "set_summary =[]\n",
    "thresh = np.sort(sentences_dic.values())[::-1][:10][9]\n",
    "for i in range(n):\n",
    "    if sentences_dic[keys[i]] > thresh:\n",
    "        to_append1 = re.sub('[^A-Za-z0-9]+', ' ', soup('sentence')[i].text)\n",
    "        set_summary.append(to_append1)\n",
    "summary = list(set(set_summary))\n",
    "for j in range(len(summary)):\n",
    "    print summary[j], \".\\n\\n\""
   ]
  },
  {
   "cell_type": "code",
   "execution_count": 122,
   "metadata": {
    "collapsed": false
   },
   "outputs": [
    {
     "data": {
      "text/plain": [
       "[<catchphrase>appeal</catchphrase>,\n",
       " <catchphrase>points not taken below</catchphrase>,\n",
       " <catchphrase>when allowed to be raised on appeal</catchphrase>,\n",
       " <catchphrase>refugees</catchphrase>,\n",
       " <catchphrase>refugee status</catchphrase>,\n",
       " <catchphrase>harm inflicted by non-state actors and possible failure of protection by police at operational level for convention reasons</catchphrase>,\n",
       " <catchphrase>whether each claim adequately raised so as to require the tribunal to deal with it</catchphrase>,\n",
       " <catchphrase>effectiveness of state protection and relocation principle</catchphrase>,\n",
       " <catchphrase>appeal and new trial</catchphrase>,\n",
       " <catchphrase>citizenship, immigration and emigration</catchphrase>]"
      ]
     },
     "execution_count": 122,
     "metadata": {},
     "output_type": "execute_result"
    }
   ],
   "source": [
    "soup('catchphrase')"
   ]
  },
  {
   "cell_type": "code",
   "execution_count": null,
   "metadata": {
    "collapsed": true
   },
   "outputs": [],
   "source": []
  }
 ],
 "metadata": {
  "kernelspec": {
   "display_name": "Python 2",
   "language": "python",
   "name": "python2"
  },
  "language_info": {
   "codemirror_mode": {
    "name": "ipython",
    "version": 2
   },
   "file_extension": ".py",
   "mimetype": "text/x-python",
   "name": "python",
   "nbconvert_exporter": "python",
   "pygments_lexer": "ipython2",
   "version": "2.7.12"
  }
 },
 "nbformat": 4,
 "nbformat_minor": 0
}

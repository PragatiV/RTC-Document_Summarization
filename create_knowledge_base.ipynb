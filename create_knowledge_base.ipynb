{
 "cells": [
  {
   "cell_type": "code",
   "execution_count": 1,
   "metadata": {
    "collapsed": false
   },
   "outputs": [],
   "source": [
    "import os\n",
    "from BeautifulSoup import BeautifulSoup\n",
    "import nltk as nltk\n",
    "from nltk.corpus import stopwords\n",
    "import re\n",
    "from wordcloud import WordCloud\n",
    "import matplotlib.pyplot as plt\n",
    "import pickle"
   ]
  },
  {
   "cell_type": "code",
   "execution_count": 2,
   "metadata": {
    "collapsed": false
   },
   "outputs": [],
   "source": [
    "catch =[]\n",
    "mypath = '/home/pragati/trainingHalf'\n",
    "for root, dirs, files in os.walk(mypath, topdown=False):\n",
    "    for filename in files:\n",
    "        f = open(os.path.join(root, filename), 'r')\n",
    "        soup = BeautifulSoup(f.read())\n",
    "        for c in (soup('catchphrase')):\n",
    "            catch.extend(c.text.split())  "
   ]
  },
  {
   "cell_type": "code",
   "execution_count": 3,
   "metadata": {
    "collapsed": false
   },
   "outputs": [],
   "source": [
    "stop_words = stopwords.words(\"english\")\n",
    "more_w = ['more', '', ' ', 'whether', 'word', 'cth', 'time', 'part', 'set', 'make', 'australia', 'ss', 'made', \\\n",
    "          'would', 'may', 'one', 'two', 'could','also', 'name','put']\n",
    "stop_words.extend(more_w)"
   ]
  },
  {
   "cell_type": "code",
   "execution_count": 4,
   "metadata": {
    "collapsed": false
   },
   "outputs": [],
   "source": [
    "filt_c = []\n",
    "tokens = [w.lower() for w in catch]\n",
    "punc_rem = [re.sub('[^A-Za-z]+', '', word) for word in tokens]\n",
    "#lemmatized = [lemm.lemmatize(w) for w in punc_rem]\n",
    "filt_stop = [word for word in punc_rem if word not in stop_words]\n",
    "filt_len = [word for word in filt_stop if len(word)>=3]\n",
    "filt_c.append(filt_len)\n",
    "filt_c = filt_c[0]"
   ]
  },
  {
   "cell_type": "code",
   "execution_count": 5,
   "metadata": {
    "collapsed": false
   },
   "outputs": [],
   "source": [
    "wordcloud = WordCloud(background_color='white',width=1200,height=1000).generate(\" \".join(filt_c))"
   ]
  },
  {
   "cell_type": "code",
   "execution_count": 6,
   "metadata": {
    "collapsed": false
   },
   "outputs": [],
   "source": [
    "plt.imshow(wordcloud)\n",
    "plt.axis('off')\n",
    "plt.show()"
   ]
  },
  {
   "cell_type": "code",
   "execution_count": 7,
   "metadata": {
    "collapsed": false
   },
   "outputs": [],
   "source": [
    "d = {}\n",
    "for word in filt_c:\n",
    "    if word in d:\n",
    "        d[word] += 1\n",
    "    else:\n",
    "        d[word] = 1"
   ]
  },
  {
   "cell_type": "code",
   "execution_count": 8,
   "metadata": {
    "collapsed": false
   },
   "outputs": [],
   "source": [
    "imp = [i for i in d if d[i] >= 25]"
   ]
  },
  {
   "cell_type": "code",
   "execution_count": 9,
   "metadata": {
    "collapsed": false
   },
   "outputs": [],
   "source": [
    "with open(\"/home/pragati/imp_list.dat\",'wb') as picklefile:\n",
    "    pickle.dump(imp, picklefile)"
   ]
  },
  {
   "cell_type": "code",
   "execution_count": 10,
   "metadata": {
    "collapsed": true
   },
   "outputs": [],
   "source": [
    "with open(\"/home/pragati/imp_list.dat\",'r') as p:\n",
    "    imp_pick = pickle.load(p)"
   ]
  },
  {
   "cell_type": "code",
   "execution_count": 11,
   "metadata": {
    "collapsed": false
   },
   "outputs": [
    {
     "name": "stdout",
     "output_type": "stream",
     "text": [
      "[u'second', u'cancellation', u'brought', u'strike', u'successful', u'circumstances', u'wrong', u'financial', u'service', u'affairs', u'result', u'nature', u'extent', u'debt', u'union', u'privilege', u'appeals', u'trustee', u'damages', u'corporate', u'previous', u'right', u'raised', u'statements', u'support', u'solicitors', u'offer', u'later', u'persecution', u'veterans', u'allegations', u'leave', u'findings', u'scope', u'validity', u'behalf', u'allowed', u'applications', u'date', u'natural', u'applicant', u'constituted', u'constitutes', u'petition', u'contained', u'investigation', u'clause', u'open', u'prospect', u'aside', u'take', u'sale', u'federal', u'affirmed', u'dispute', u'prima', u'liable', u'notice', u'workplace', u'engaged', u'costs', u'act', u'parties', u'estoppel', u'citizenship', u'certain', u'intention', u'original', u'waiver', u'consider', u'appointment', u'condition', u'penalties', u'investment', u'section', u'full', u'compliance', u'prior', u'social', u'company', u'administrators', u'information', u'dismissed', u'refuse', u'register', u'trade', u'found', u'operation', u'relations', u'relationship', u'aat', u'determined', u'failed', u'migration', u'premises', u'respondents', u'death', u'prospects', u'connection', u'fund', u'representative', u'judicial', u'error', u'rules', u'person', u'amp', u'relevance', u'submissions', u'imposed', u'agreement', u'relating', u'appropriate', u'medical', u'invalid', u'land', u'consideration', u'opinion', u'ministers', u'challenge', u'process', u'purposes', u'high', u'delay', u'doca', u'undertaking', u'witness', u'dismissal', u'alleged', u'owner', u'deceptive', u'system', u'interests', u'false', u'documents', u'visa', u'fact', u'allegation', u'authorised', u'upon', u'credibility', u'applicants', u'amendment', u'liquidation', u'construction', u'rule', u'pension', u'onus', u'delegate', u'established', u'decisions', u'protection', u'employees', u'award', u'work', u'refusing', u'provide', u'infringement', u'ordinary', u'earlier', u'customs', u'law', u'order', u'office', u'consent', u'satisfied', u'production', u'affected', u'reasonably', u'reasonable', u'standard', u'certified', u'refugee', u'another', u'rejected', u'powers', u'genuine', u'exercised', u'adequate', u'sequestration', u'terms', u'received', u'receiver', u'duties', u'concerning', u'applies', u'property', u'independent', u'board', u'securities', u'security', u'considerations', u'legislation', u'payment', u'way', u'evidence', u'test', u'affidavit', u'tribunals', u'liability', u'jurisdictional', u'appear', u'shares', u'appeal', u'trial', u'market', u'interim', u'commissioner', u'heard', u'bankrupt', u'product', u'provision', u'obligation', u'taxation', u'accordance', u'price', u'professional', u'filing', u'erred', u'ground', u'title', u'bias', u'constitutional', u'real', u'benefit', u'business', u'default', u'managed', u'witnesses', u'amount', u'family', u'taken', u'injury', u'tried', u'denial', u'held', u'taxpayer', u'absence', u'disclosed', u'event', u'safety', u'issue', u'reason', u'scheme', u'procedural', u'substantial', u'unreasonable', u'copyright', u'justice', u'conditions', u'ought', u'grant', u'pleadings', u'used', u'success', u'disclosure', u'registered', u'properly', u'authority', u'ordered', u'application', u'regulations', u'required', u'commercial', u'patents', u'appointed', u'sought', u'arrangement', u'including', u'adjournment', u'commonwealth', u'special', u'unlawful', u'cause', u'determining', u'management', u'superannuation', u'need', u'proceedings', u'based', u'employer', u'joint', u'magistrate', u'state', u'discrimination', u'liquidator', u'party', u'effect', u'single', u'warrant', u'loss', u'necessary', u'payments', u'previously', u'additional', u'notices', u'courts', u'stay', u'determination', u'disability', u'companies', u'convenience', u'likely', u'asic', u'new', u'credit', u'affirming', u'rights', u'give', u'purchase', u'third', u'personal', u'principles', u'matter', u'principle', u'jurisdiction', u'conduct', u'comply', u'reference', u'subject', u'said', u'basis', u'three', u'particulars', u'commission', u'interest', u'entered', u'dismiss', u'balance', u'complaint', u'entitled', u'opportunity', u'failing', u'practices', u'claims', u'human', u'facts', u'pecuniary', u'character', u'magistrates', u'appellant', u'intellectual', u'form', u'failure', u'insolvency', u'marks', u'suffered', u'favour', u'international', u'making', u'claim', u'agent', u'entity', u'group', u'policy', u'within', u'entitlements', u'registrar', u'first', u'corporations', u'winding', u'performance', u'paid', u'contracts', u'summary', u'mark', u'declaration', u'different', u'pay', u'objection', u'money', u'resolution', u'purported', u'general', u'file', u'deed', u'assets', u'oral', u'defence', u'public', u'shareholders', u'particular', u'advice', u'industrial', u'existence', u'seeking', u'harm', u'insurance', u'benefits', u'statement', u'lease', u'orders', u'services', u'obligations', u'relation', u'common', u'expert', u'foreign', u'point', u'raise', u'meeting', u'assignment', u'purpose', u'alternative', u'administrative', u'matters', u'decision', u'goods', u'bankruptcy', u'immigration', u'interlocutory', u'implied', u'power', u'giving', u'access', u'pleading', u'exercise', u'defendant', u'account', u'admiralty', u'contempt', u'native', u'criminal', u'extradition', u'day', u'south', u'facie', u'discretionary', u'compensation', u'request', u'knowledge', u'otherwise', u'relevant', u'claimed', u'administration', u'material', u'judgment', u'arising', u'proper', u'discretion', u'awarded', u'corporation', u'limited', u'contravention', u'applied', u'rise', u'assessment', u'must', u'patent', u'interpretation', u'applicable', u'reinstatement', u'already', u'primary', u'hearing', u'serve', u'took', u'solicitor', u'final', u'report', u'approach', u'discovery', u'trust', u'joinder', u'procedure', u'action', u'proposed', u'judge', u'officer', u'reviewable', u'proceeding', u'misleading', u'respondent', u'civil', u'fairness', u'payable', u'serious', u'contraventions', u'charge', u'injunction', u'australian', u'employee', u'tribunal', u'requirements', u'representations', u'representation', u'term', u'factors', u'motion', u'pleaded', u'given', u'convention', u'considered', u'pursuant', u'written', u'subsequent', u'review', u'contract', u'duty', u'period', u'approval', u'direction', u'minister', u'irrelevant', u'case', u'amend', u'granted', u'refusal', u'director', u'persons', u'statutory', u'without', u'relief', u'relied', u'termination', u'provided', u'legal', u'regard', u'appellants', u'separate', u'creditor', u'directors', u'lack', u'settlement', u'removal', u'indemnity', u'design', u'sum', u'members', u'court', u'rather', u'adverse', u'health', u'prejudice', u'finding', u'contractual', u'penalty', u'context', u'reasons', u'political', u'due', u'demand', u'questions', u'amended', u'refused', u'entitlement', u'question', u'filed', u'declarations', u'associated', u'income', u'meaning', u'issued', u'issues', u'breach', u'apply', u'use', u'fee', u'proof', u'tax', u'dismissing', u'attend', u'abuse', u'pending', u'practice', u'registration', u'related', u'phrases', u'creditors', u'class', u'agreed', u'fear', u'litigation', u'plaintiff', u'words', u'liquidators', u'available', u'requirement', u'merits', u'grounds', u'respect', u'agreements', u'sufficient', u'present', u'member', u'obtain', u'supply', u'provisions', u'employment', u'extension', u'transfer', u'incurred']\n"
     ]
    }
   ],
   "source": [
    "print imp_pick"
   ]
  },
  {
   "cell_type": "code",
   "execution_count": null,
   "metadata": {
    "collapsed": true
   },
   "outputs": [],
   "source": []
  },
  {
   "cell_type": "code",
   "execution_count": null,
   "metadata": {
    "collapsed": true
   },
   "outputs": [],
   "source": []
  }
 ],
 "metadata": {
  "kernelspec": {
   "display_name": "Python 2",
   "language": "python",
   "name": "python2"
  },
  "language_info": {
   "codemirror_mode": {
    "name": "ipython",
    "version": 2
   },
   "file_extension": ".py",
   "mimetype": "text/x-python",
   "name": "python",
   "nbconvert_exporter": "python",
   "pygments_lexer": "ipython2",
   "version": "2.7.12"
  }
 },
 "nbformat": 4,
 "nbformat_minor": 0
}
